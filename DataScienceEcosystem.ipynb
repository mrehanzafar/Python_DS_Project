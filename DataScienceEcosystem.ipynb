{
 "cells": [
  {
   "cell_type": "markdown",
   "id": "9a3e3010-ba64-40ae-b28e-6d94b5f5bc80",
   "metadata": {},
   "source": [
    "# Data Science Tools and Ecosystem"
   ]
  },
  {
   "cell_type": "markdown",
   "id": "49ee2f05-3577-4083-875d-cca4de101cab",
   "metadata": {},
   "source": [
    "In this notebook, Data Science Tools and Ecosystem are summarized."
   ]
  },
  {
   "cell_type": "markdown",
   "id": "bc4362e0-9f6c-439b-b34f-d0b8c7149df1",
   "metadata": {},
   "source": [
    "**Objectives:**\n",
    "- List popular languages for Data Science\n",
    "- List commonly used libraries used by Data Scientists\n",
    "- List commonly used Data Science Tools"
   ]
  },
  {
   "cell_type": "markdown",
   "id": "f1f7aa81-addc-48c8-adcd-6c51b4ff773c",
   "metadata": {},
   "source": [
    "Some of the popular languages that Data Scientists use are:\n",
    "1. Python\n",
    "2. R\n",
    "3. SQL"
   ]
  },
  {
   "cell_type": "markdown",
   "id": "68e9bef8-1425-4c03-896a-0ffd4c834e6f",
   "metadata": {},
   "source": [
    "Some of the commonly used libraries used by Data Scientists include:\n",
    "1. Numpy\n",
    "2. Pandas\n",
    "3. Scikit-Learn\n",
    "4. Matplotlib\n",
    "5. Plotly"
   ]
  },
  {
   "cell_type": "markdown",
   "id": "d6cb82ed-fb2b-4d33-b5d9-ac41fc8ac33d",
   "metadata": {
    "tags": []
   },
   "source": [
    "| Data Science Tools |\n",
    "| ------ |\n",
    "| RStudio |\n",
    "| Jupyter Notebook |\n",
    "| JupyterLab |\n"
   ]
  },
  {
   "cell_type": "markdown",
   "id": "3909daf5-1681-4615-966f-fb70cdc0cc3a",
   "metadata": {},
   "source": [
    "# Below are a few examples of evaluating arithmetic expressions in Python"
   ]
  },
  {
   "cell_type": "code",
   "execution_count": 4,
   "id": "022c14ca-824a-4abe-9c9b-ce41be032ba9",
   "metadata": {
    "tags": []
   },
   "outputs": [
    {
     "data": {
      "text/plain": [
       "17"
      ]
     },
     "execution_count": 4,
     "metadata": {},
     "output_type": "execute_result"
    }
   ],
   "source": [
    "#This a simple arithmetic expression to mutiply then add integers\n",
    "(3*4)+5"
   ]
  },
  {
   "cell_type": "code",
   "execution_count": 5,
   "id": "91f22cb8-9ec5-4a9b-8701-58890ca31347",
   "metadata": {
    "tags": []
   },
   "outputs": [
    {
     "data": {
      "text/plain": [
       "3.3333333333333335"
      ]
     },
     "execution_count": 5,
     "metadata": {},
     "output_type": "execute_result"
    }
   ],
   "source": [
    "#This will convert 200 minutes to hours by diving by 60\n",
    "200/60"
   ]
  },
  {
   "cell_type": "markdown",
   "id": "afb1939b-5a48-4596-8a75-fbb2338f70b3",
   "metadata": {},
   "source": [
    "## Author\n",
    "Rehan Zafar"
   ]
  },
  {
   "cell_type": "code",
   "execution_count": null,
   "id": "404abcd6-957b-43b3-835d-a81758d7057e",
   "metadata": {},
   "outputs": [],
   "source": []
  }
 ],
 "metadata": {
  "kernelspec": {
   "display_name": "Python",
   "language": "python",
   "name": "conda-env-python-py"
  },
  "language_info": {
   "codemirror_mode": {
    "name": "ipython",
    "version": 3
   },
   "file_extension": ".py",
   "mimetype": "text/x-python",
   "name": "python",
   "nbconvert_exporter": "python",
   "pygments_lexer": "ipython3",
   "version": "3.7.12"
  }
 },
 "nbformat": 4,
 "nbformat_minor": 5
}
